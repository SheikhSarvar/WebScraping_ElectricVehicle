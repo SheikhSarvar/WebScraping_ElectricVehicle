{
 "cells": [
  {
   "cell_type": "code",
   "execution_count": 3,
   "metadata": {},
   "outputs": [],
   "source": [
    "import pandas as pd\n",
    "from googlesearch import search\n",
    "from bs4 import BeautifulSoup\n",
    "import requests"
   ]
  },
  {
   "cell_type": "code",
   "execution_count": 19,
   "metadata": {},
   "outputs": [
    {
     "name": "stdout",
     "output_type": "stream",
     "text": [
      "Scraping data for query 1: Identify the industry in which Canoo operates, along with its size, growth rate, trends, and key players.\n",
      "Data saved to query_1_results.csv\n",
      "Scraping data for query 2: Analyze Canoo's main competitors, including their market share, products or services offered, pricing strategies, and marketing efforts.\n",
      "Data saved to query_2_results.csv\n",
      "Scraping data for query 3: Identify key trends in the market, including changes in consumer behavior, technological advancements, and shifts in the competitive landscape.\n",
      "Data saved to query_3_results.csv\n",
      "Scraping data for query 4: Gather information on Canoo's financial performance, including its revenue, profit margins, return on investment, and expense structure.\n"
     ]
    },
    {
     "name": "stderr",
     "output_type": "stream",
     "text": [
      "Some characters could not be decoded, and were replaced with REPLACEMENT CHARACTER.\n"
     ]
    },
    {
     "name": "stdout",
     "output_type": "stream",
     "text": [
      "Data saved to query_4_results.csv\n"
     ]
    }
   ],
   "source": [
    "from googlesearch import search\n",
    "from bs4 import BeautifulSoup\n",
    "import csv\n",
    "import requests\n",
    "from googlesearch import search\n",
    "\n",
    "# Function to scrape data from the search results\n",
    "def scrape_search_results(query):\n",
    "    # Perform Google search and fetch the first 5 results\n",
    "    search_results = search(query, num_results=5)\n",
    "    \n",
    "    # Initialize list to store results\n",
    "    results = []\n",
    "    \n",
    "    # Iterate through search results\n",
    "    for url in search_results:\n",
    "        # Fetch the URL content\n",
    "        response = requests.get(url)\n",
    "        \n",
    "        # Check if request was successful\n",
    "        if response.status_code == 200:\n",
    "            # Parse the HTML content\n",
    "            soup = BeautifulSoup(response.content, 'html.parser')\n",
    "            \n",
    "            # Extract relevant data\n",
    "            title = soup.find('title').text if soup.find('title') else ''\n",
    "            snippet = soup.find('meta', {'name': 'description'})['content'] if soup.find('meta', {'name': 'description'}) else ''\n",
    "            \n",
    "            # Append data to results list\n",
    "            results.append({\n",
    "                'Title': title,\n",
    "                'Snippet': snippet,\n",
    "                'URL': url\n",
    "            })\n",
    "    \n",
    "    return results\n",
    "\n",
    "# Function to save scraped data into a CSV file\n",
    "def save_to_csv(data, filename):\n",
    "    # Define CSV fieldnames\n",
    "    fieldnames = ['Title', 'Snippet', 'URL']\n",
    "    \n",
    "    # Write data to CSV file\n",
    "    with open(filename, 'w', newline='', encoding='utf-8') as csvfile:\n",
    "        writer = csv.DictWriter(csvfile, fieldnames=fieldnames)\n",
    "        writer.writeheader()\n",
    "        for row in data:\n",
    "            writer.writerow(row)\n",
    "\n",
    "# Main function\n",
    "def main():\n",
    "    # Define search queries\n",
    "    queries = [\n",
    "        \"Identify the industry in which Canoo operates, along with its size, growth rate, trends, and key players.\",\n",
    "        \"Analyze Canoo's main competitors, including their market share, products or services offered, pricing strategies, and marketing efforts.\",\n",
    "        \"Identify key trends in the market, including changes in consumer behavior, technological advancements, and shifts in the competitive landscape.\",\n",
    "        \"Gather information on Canoo's financial performance, including its revenue, profit margins, return on investment, and expense structure.\"\n",
    "    ]\n",
    "    \n",
    "    # Loop through each query, scrape search results, and save to CSV\n",
    "    for i, query in enumerate(queries):\n",
    "        print(f\"Scraping data for query {i+1}: {query}\")\n",
    "        results = scrape_search_results(query)\n",
    "        if results:\n",
    "            save_to_csv(results, f\"query_{i+1}_results.csv\")\n",
    "            print(f\"Data saved to query_{i+1}_results.csv\")\n",
    "        else:\n",
    "            print(f\"No results found for query {i+1}\")\n",
    "\n",
    "if __name__ == \"__main__\":\n",
    "    main()\n"
   ]
  },
  {
   "cell_type": "code",
   "execution_count": 20,
   "metadata": {},
   "outputs": [
    {
     "name": "stdout",
     "output_type": "stream",
     "text": [
      "Merged CSV file saved as 'merged_results.csv'\n"
     ]
    }
   ],
   "source": [
    "import pandas as pd\n",
    "import glob\n",
    "\n",
    "# Get a list of all CSV files in the current directory\n",
    "csv_files = glob.glob(\"query_*_results.csv\")\n",
    "\n",
    "# Initialize an empty list to store dataframes\n",
    "dfs = []\n",
    "\n",
    "# Read each CSV file and append its dataframe to the list\n",
    "for csv_file in csv_files:\n",
    "    dfs.append(pd.read_csv(csv_file))\n",
    "\n",
    "# Concatenate all dataframes into a single dataframe\n",
    "merged_df = pd.concat(dfs, ignore_index=True)\n",
    "\n",
    "# Save the merged dataframe to a CSV file\n",
    "merged_df.to_csv(\"merged_results.csv\", index=False)\n",
    "\n",
    "print(\"Merged CSV file saved as 'merged_results.csv'\")\n"
   ]
  },
  {
   "cell_type": "code",
   "execution_count": 21,
   "metadata": {},
   "outputs": [
    {
     "data": {
      "text/html": [
       "<div>\n",
       "<style scoped>\n",
       "    .dataframe tbody tr th:only-of-type {\n",
       "        vertical-align: middle;\n",
       "    }\n",
       "\n",
       "    .dataframe tbody tr th {\n",
       "        vertical-align: top;\n",
       "    }\n",
       "\n",
       "    .dataframe thead th {\n",
       "        text-align: right;\n",
       "    }\n",
       "</style>\n",
       "<table border=\"1\" class=\"dataframe\">\n",
       "  <thead>\n",
       "    <tr style=\"text-align: right;\">\n",
       "      <th></th>\n",
       "      <th>Title</th>\n",
       "      <th>Snippet</th>\n",
       "      <th>URL</th>\n",
       "    </tr>\n",
       "  </thead>\n",
       "  <tbody>\n",
       "    <tr>\n",
       "      <th>0</th>\n",
       "      <td>Canoe Market Size, Growth &amp; Trends Report [202...</td>\n",
       "      <td>Global \"Canoe Market\" report indicates a consi...</td>\n",
       "      <td>https://www.linkedin.com/pulse/canoe-market-si...</td>\n",
       "    </tr>\n",
       "    <tr>\n",
       "      <th>1</th>\n",
       "      <td>Canoe Market Size In 2023 : Share, Trends, Opp...</td>\n",
       "      <td>\"Canoe Market\" is expected to witness signific...</td>\n",
       "      <td>https://www.linkedin.com/pulse/canoe-market-si...</td>\n",
       "    </tr>\n",
       "    <tr>\n",
       "      <th>2</th>\n",
       "      <td>About Us - Leading Technology and Automotive C...</td>\n",
       "      <td>We are on a mission to bring EVs to everyone. ...</td>\n",
       "      <td>https://www.canoo.com/about/</td>\n",
       "    </tr>\n",
       "    <tr>\n",
       "      <th>3</th>\n",
       "      <td>Canoo - Wikipedia</td>\n",
       "      <td>NaN</td>\n",
       "      <td>https://en.wikipedia.org/wiki/Canoo</td>\n",
       "    </tr>\n",
       "    <tr>\n",
       "      <th>4</th>\n",
       "      <td>Canoe and Kayak Market Growth, Size, Share, Tr...</td>\n",
       "      <td>Canoe and Kayak Market growth at a rate of 2.5...</td>\n",
       "      <td>https://www.databridgemarketresearch.com/repor...</td>\n",
       "    </tr>\n",
       "  </tbody>\n",
       "</table>\n",
       "</div>"
      ],
      "text/plain": [
       "                                               Title  \\\n",
       "0  Canoe Market Size, Growth & Trends Report [202...   \n",
       "1  Canoe Market Size In 2023 : Share, Trends, Opp...   \n",
       "2  About Us - Leading Technology and Automotive C...   \n",
       "3                                  Canoo - Wikipedia   \n",
       "4  Canoe and Kayak Market Growth, Size, Share, Tr...   \n",
       "\n",
       "                                             Snippet  \\\n",
       "0  Global \"Canoe Market\" report indicates a consi...   \n",
       "1  \"Canoe Market\" is expected to witness signific...   \n",
       "2  We are on a mission to bring EVs to everyone. ...   \n",
       "3                                                NaN   \n",
       "4  Canoe and Kayak Market growth at a rate of 2.5...   \n",
       "\n",
       "                                                 URL  \n",
       "0  https://www.linkedin.com/pulse/canoe-market-si...  \n",
       "1  https://www.linkedin.com/pulse/canoe-market-si...  \n",
       "2                       https://www.canoo.com/about/  \n",
       "3                https://en.wikipedia.org/wiki/Canoo  \n",
       "4  https://www.databridgemarketresearch.com/repor...  "
      ]
     },
     "execution_count": 21,
     "metadata": {},
     "output_type": "execute_result"
    }
   ],
   "source": [
    "merged_df.head()"
   ]
  },
  {
   "cell_type": "code",
   "execution_count": 26,
   "metadata": {},
   "outputs": [
    {
     "data": {
      "text/plain": [
       "(19, 3)"
      ]
     },
     "execution_count": 26,
     "metadata": {},
     "output_type": "execute_result"
    }
   ],
   "source": [
    "merged_df.shape"
   ]
  },
  {
   "cell_type": "code",
   "execution_count": 29,
   "metadata": {},
   "outputs": [
    {
     "name": "stdout",
     "output_type": "stream",
     "text": [
      "Scraping data for Canoo\n",
      "Data saved to ev_companies_data.csv\n"
     ]
    }
   ],
   "source": [
    "def search_ev_companies():\n",
    "    # Search query to find EV companies\n",
    "    search_query = \"list of electric vehicle companies\"\n",
    "    \n",
    "    # Send GET request to search for EV companies\n",
    "    response = requests.get(f\"https://www.google.com/search?q={search_query}\")\n",
    "    if response.status_code == 200:\n",
    "        soup = BeautifulSoup(response.content, 'html.parser')\n",
    "        \n",
    "        # Extract search results\n",
    "        search_results = soup.find_all('div', class_='tF2Cxc')\n",
    "        \n",
    "        # Extract company names and URLs from search results\n",
    "        ev_companies = []\n",
    "        for result in search_results:\n",
    "            company_name = result.find('h3').text\n",
    "            company_url = result.find('a')['href']\n",
    "            ev_companies.append({'Company Name': company_name, 'URL': company_url})\n",
    "        \n",
    "        return ev_companies\n",
    "    else:\n",
    "        print(\"Failed to fetch search results\")\n",
    "        return []\n",
    "\n",
    "def scrape_company_data(company_name, company_url):\n",
    "    # Send GET request to the company's website\n",
    "    response = requests.get(company_url)\n",
    "    if response.status_code == 200:\n",
    "        soup = BeautifulSoup(response.content, 'html.parser')\n",
    "        \n",
    "        # Scrape data from the website\n",
    "        products_offered = [product.text.strip() for product in soup.find_all('div', class_='product')]\n",
    "        pricing_strategy = soup.find('div', class_='pricing').text.strip() if soup.find('div', class_='pricing') else ''\n",
    "        marketing_efforts = soup.find('div', class_='marketing').text.strip() if soup.find('div', class_='marketing') else ''\n",
    "        \n",
    "        # Store data in a dictionary\n",
    "        company_data = {\n",
    "            'Company Name': company_name,\n",
    "            'Products/Services Offered': ', '.join(products_offered),\n",
    "            'Pricing Strategy': pricing_strategy,\n",
    "            'Marketing Efforts': marketing_efforts\n",
    "            # Add 'Market Share' field if available\n",
    "        }\n",
    "        return company_data\n",
    "    else:\n",
    "        print(f\"Failed to fetch data from {company_url}\")\n",
    "        return None\n",
    "\n",
    "\n",
    "def main():\n",
    "    # Search for EV companies\n",
    "    ev_companies = search_ev_companies()\n",
    "    \n",
    "    # Add Canoo to the list of EV companies\n",
    "    ev_companies.append({'Company Name': 'Canoo', 'URL': 'https://www.canoo.com/'})\n",
    "    \n",
    "    # Scrape data for each company\n",
    "    all_company_data = []\n",
    "    for company in ev_companies:\n",
    "        print(f\"Scraping data for {company['Company Name']}\")\n",
    "        company_data = scrape_company_data(company['Company Name'], company['URL'])\n",
    "        if company_data:\n",
    "            all_company_data.append(company_data)\n",
    "    \n",
    "    # Create a DataFrame from the scraped data\n",
    "    ev_df = pd.DataFrame(all_company_data)\n",
    "    \n",
    "    # Save the DataFrame to a CSV file\n",
    "    ev_df.to_csv('ev_companies_data.csv', index=False)\n",
    "    \n",
    "    print(\"Data saved to ev_companies_data.csv\")\n",
    "\n",
    "if __name__ == \"__main__\":\n",
    "    main()\n"
   ]
  },
  {
   "cell_type": "code",
   "execution_count": 30,
   "metadata": {},
   "outputs": [],
   "source": [
    "df1=pd.read_csv('ev_companies_data.csv')"
   ]
  },
  {
   "cell_type": "code",
   "execution_count": 34,
   "metadata": {},
   "outputs": [
    {
     "data": {
      "text/html": [
       "<div>\n",
       "<style scoped>\n",
       "    .dataframe tbody tr th:only-of-type {\n",
       "        vertical-align: middle;\n",
       "    }\n",
       "\n",
       "    .dataframe tbody tr th {\n",
       "        vertical-align: top;\n",
       "    }\n",
       "\n",
       "    .dataframe thead th {\n",
       "        text-align: right;\n",
       "    }\n",
       "</style>\n",
       "<table border=\"1\" class=\"dataframe\">\n",
       "  <thead>\n",
       "    <tr style=\"text-align: right;\">\n",
       "      <th></th>\n",
       "      <th>Company Name</th>\n",
       "      <th>Products/Services Offered</th>\n",
       "      <th>Pricing Strategy</th>\n",
       "      <th>Marketing Efforts</th>\n",
       "    </tr>\n",
       "  </thead>\n",
       "  <tbody>\n",
       "    <tr>\n",
       "      <th>0</th>\n",
       "      <td>Canoo</td>\n",
       "      <td>NaN</td>\n",
       "      <td>NaN</td>\n",
       "      <td>NaN</td>\n",
       "    </tr>\n",
       "  </tbody>\n",
       "</table>\n",
       "</div>"
      ],
      "text/plain": [
       "  Company Name  Products/Services Offered  Pricing Strategy  Marketing Efforts\n",
       "0        Canoo                        NaN               NaN                NaN"
      ]
     },
     "execution_count": 34,
     "metadata": {},
     "output_type": "execute_result"
    }
   ],
   "source": []
  }
 ],
 "metadata": {
  "kernelspec": {
   "display_name": "venv",
   "language": "python",
   "name": "python3"
  },
  "language_info": {
   "codemirror_mode": {
    "name": "ipython",
    "version": 3
   },
   "file_extension": ".py",
   "mimetype": "text/x-python",
   "name": "python",
   "nbconvert_exporter": "python",
   "pygments_lexer": "ipython3",
   "version": "3.11.4"
  }
 },
 "nbformat": 4,
 "nbformat_minor": 2
}
